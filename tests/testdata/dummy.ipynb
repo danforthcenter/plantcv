{
 "cells": [
  {
   "cell_type": "code",
   "execution_count": null,
   "id": "ce2e1628-a37d-47c1-b63f-2d264eda6718",
   "metadata": {},
   "outputs": [],
   "source": [
    "x = 1"
   ]
  }
 ],
 "metadata": {
  "kernelspec": {
   "display_name": "Python 3 (ipykernel)",
   "language": "python",
   "name": "python3"
  },
  "language_info": {
   "codemirror_mode": {
    "name": "ipython",
    "version": 3
   },
   "file_extension": ".py",
   "mimetype": "text/x-python",
   "name": "python",
   "nbconvert_exporter": "python",
   "pygments_lexer": "ipython3",
   "version": "3.11.13"
  }
 },
 "nbformat": 4,
 "nbformat_minor": 5
}
